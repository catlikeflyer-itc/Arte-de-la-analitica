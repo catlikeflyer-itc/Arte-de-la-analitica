{
 "metadata": {
  "language_info": {
   "codemirror_mode": {
    "name": "ipython",
    "version": 3
   },
   "file_extension": ".py",
   "mimetype": "text/x-python",
   "name": "python",
   "nbconvert_exporter": "python",
   "pygments_lexer": "ipython3",
   "version": "3.8.5"
  },
  "orig_nbformat": 2,
  "kernelspec": {
   "name": "python385jvsc74a57bd0b3ba2566441a7c06988d0923437866b63cedc61552a5af99d1f4fb67d367b25f",
   "display_name": "Python 3.8.5 64-bit ('base': conda)"
  }
 },
 "nbformat": 4,
 "nbformat_minor": 2,
 "cells": [
  {
   "cell_type": "code",
   "execution_count": 1,
   "metadata": {},
   "outputs": [],
   "source": [
    "import pandas as pd"
   ]
  },
  {
   "cell_type": "code",
   "execution_count": 3,
   "metadata": {},
   "outputs": [
    {
     "output_type": "stream",
     "name": "stdout",
     "text": [
      "<class 'pandas.core.frame.DataFrame'>\nRangeIndex: 144 entries, 0 to 143\nData columns (total 12 columns):\n #   Column       Non-Null Count  Dtype  \n---  ------       --------------  -----  \n 0   PassengerId  144 non-null    int64  \n 1   Survived     144 non-null    int64  \n 2   Pclass       144 non-null    int64  \n 3   Name         144 non-null    object \n 4   Gender       144 non-null    object \n 5   Age          144 non-null    float64\n 6   SibSp        144 non-null    int64  \n 7   Parch        144 non-null    int64  \n 8   Ticket       144 non-null    object \n 9   Fare         144 non-null    float64\n 10  Cabin        144 non-null    object \n 11  Embarked     144 non-null    object \ndtypes: float64(2), int64(5), object(5)\nmemory usage: 13.6+ KB\n"
     ]
    }
   ],
   "source": [
    "df = pd.read_csv(\"datos/just_women.csv\")\n",
    "df.head\n",
    "df.info()"
   ]
  },
  {
   "cell_type": "code",
   "execution_count": null,
   "metadata": {},
   "outputs": [],
   "source": []
  }
 ]
}